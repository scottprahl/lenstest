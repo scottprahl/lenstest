{
 "cells": [
  {
   "cell_type": "markdown",
   "id": "6601f600-7eaf-43a1-a40c-fe4c337f257f",
   "metadata": {},
   "source": [
    "# Dynamic Ronchigrams\n",
    "\n",
    "**Scott Prahl**\n",
    "\n",
    "**April 2021**\n"
   ]
  },
  {
   "cell_type": "code",
   "execution_count": 1,
   "id": "executed-feeling",
   "metadata": {},
   "outputs": [],
   "source": [
    "%matplotlib widget\n",
    "import ipywidgets\n",
    "import numpy as np\n",
    "import matplotlib.pyplot as plt\n",
    "import lenstest"
   ]
  },
  {
   "cell_type": "code",
   "execution_count": 2,
   "id": "9a30e8dc-e42d-4e63-a4ee-64be4dbe1540",
   "metadata": {},
   "outputs": [
    {
     "data": {
      "application/vnd.jupyter.widget-view+json": {
       "model_id": "299f61cc1eab410484d2e0abef643f13",
       "version_major": 2,
       "version_minor": 0
      },
      "text/plain": [
       "Canvas(toolbar=Toolbar(toolitems=[('Home', 'Reset original view', 'home', 'home'), ('Back', 'Back to previous …"
      ]
     },
     "metadata": {},
     "output_type": "display_data"
    }
   ],
   "source": [
    "D = 20*25.4\n",
    "RoC = 160*25.4\n",
    "offset = 2\n",
    "lp_per_mm = 10\n",
    "x_offset = -0.03\n",
    "conic = 1\n",
    "phi = 0\n",
    "\n",
    "lenstest.ronchi.ronchi_plot(D,RoC,lp_per_mm,offset,conic,phi=phi)\n",
    "plt.show()"
   ]
  },
  {
   "cell_type": "code",
   "execution_count": 3,
   "id": "perfect-stability",
   "metadata": {},
   "outputs": [
    {
     "data": {
      "application/vnd.jupyter.widget-view+json": {
       "model_id": "57bd6b1467824525af5b9eeab468bcc9",
       "version_major": 2,
       "version_minor": 0
      },
      "text/plain": [
       "Canvas(toolbar=Toolbar(toolitems=[('Home', 'Reset original view', 'home', 'home'), ('Back', 'Back to previous …"
      ]
     },
     "metadata": {},
     "output_type": "display_data"
    },
    {
     "data": {
      "application/vnd.jupyter.widget-view+json": {
       "model_id": "d70b40267b114b55bb54ff946761242e",
       "version_major": 2,
       "version_minor": 0
      },
      "text/plain": [
       "interactive(children=(FloatSlider(value=0.0, description='conic', max=1.0, min=-1.0, step=0.02), IntSlider(val…"
      ]
     },
     "metadata": {},
     "output_type": "display_data"
    }
   ],
   "source": [
    "D = 20*25.4\n",
    "RoC = 160*25.4\n",
    "\n",
    "plt.subplots(1,2,figsize=(10,5))\n",
    "\n",
    "def update(conic=0, lp_per_mm = 20, focus_offset=2, phi=0):\n",
    "    plt.clf()\n",
    "    lenstest.ronchi.ronchi_plot(D, RoC,lp_per_mm,offset,conic,phi=phi,init=False)\n",
    "\n",
    "ipywidgets.interact(update, conic = (-1,1,0.02), lp_per_mm=(5,200,10),offset=(-5,5,0.1),phi=(0,90,15));"
   ]
  },
  {
   "cell_type": "code",
   "execution_count": null,
   "id": "53f7ca4e-0186-4958-b73a-618bd17cf3ff",
   "metadata": {},
   "outputs": [],
   "source": []
  }
 ],
 "metadata": {
  "kernelspec": {
   "display_name": "Python 3",
   "language": "python",
   "name": "python3"
  },
  "language_info": {
   "codemirror_mode": {
    "name": "ipython",
    "version": 3
   },
   "file_extension": ".py",
   "mimetype": "text/x-python",
   "name": "python",
   "nbconvert_exporter": "python",
   "pygments_lexer": "ipython3",
   "version": "3.9.1"
  }
 },
 "nbformat": 4,
 "nbformat_minor": 5
}
