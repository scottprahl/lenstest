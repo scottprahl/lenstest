{
 "cells": [
  {
   "cell_type": "markdown",
   "id": "6531b0e7-5ffe-4a2d-bbef-ff3e5aa3ba25",
   "metadata": {},
   "source": [
    "# Dynamic Foucault Simulations\n",
    "\n",
    "**Scott Prahl**\n",
    "\n",
    "**April 2021**\n"
   ]
  },
  {
   "cell_type": "code",
   "execution_count": 1,
   "id": "executed-feeling",
   "metadata": {},
   "outputs": [],
   "source": [
    "%matplotlib widget\n",
    "import ipywidgets\n",
    "import numpy as np\n",
    "import matplotlib.pyplot as plt\n",
    "import lenstest"
   ]
  },
  {
   "cell_type": "code",
   "execution_count": 4,
   "id": "perfect-stability",
   "metadata": {},
   "outputs": [
    {
     "data": {
      "application/vnd.jupyter.widget-view+json": {
       "model_id": "e6e9a9582116462ca83f2157229a9d93",
       "version_major": 2,
       "version_minor": 0
      },
      "text/plain": [
       "Canvas(toolbar=Toolbar(toolitems=[('Home', 'Reset original view', 'home', 'home'), ('Back', 'Back to previous …"
      ]
     },
     "metadata": {},
     "output_type": "display_data"
    },
    {
     "data": {
      "application/vnd.jupyter.widget-view+json": {
       "model_id": "cafc8f62777e4339abf8937c19ad64cb",
       "version_major": 2,
       "version_minor": 0
      },
      "text/plain": [
       "interactive(children=(FloatSlider(value=0.0, description='conic', max=1.0, min=-1.0, step=0.02), FloatSlider(v…"
      ]
     },
     "metadata": {},
     "output_type": "display_data"
    }
   ],
   "source": [
    "D = 20*25.4\n",
    "RoC = 160*25.4\n",
    "offset = 2\n",
    "lp_per_mm = 10\n",
    "x_offset = -0.03\n",
    "conic = 1\n",
    "phi = 0\n",
    "\n",
    "plt.subplots(1,2,figsize=(10,5))\n",
    "\n",
    "def update(conic=0, x_offset = 0, offset=2, phi=0):\n",
    "    plt.clf()\n",
    "    ph = np.radians(phi)\n",
    "    lenstest.foucault.foucault_plot(D, RoC, x_offset, offset, conic, phi=ph, init=False)\n",
    "\n",
    "ipywidgets.interact(update, conic = (-1,1,0.02), x_offset=(-0.2,0.2,0.02),offset=(-15,15,0.1),phi=(0,90,15));"
   ]
  },
  {
   "cell_type": "code",
   "execution_count": null,
   "id": "a1136d75-493c-450d-ba21-44d00a81f889",
   "metadata": {},
   "outputs": [],
   "source": []
  }
 ],
 "metadata": {
  "kernelspec": {
   "display_name": "Python 3",
   "language": "python",
   "name": "python3"
  },
  "language_info": {
   "codemirror_mode": {
    "name": "ipython",
    "version": 3
   },
   "file_extension": ".py",
   "mimetype": "text/x-python",
   "name": "python",
   "nbconvert_exporter": "python",
   "pygments_lexer": "ipython3",
   "version": "3.9.1"
  }
 },
 "nbformat": 4,
 "nbformat_minor": 5
}
