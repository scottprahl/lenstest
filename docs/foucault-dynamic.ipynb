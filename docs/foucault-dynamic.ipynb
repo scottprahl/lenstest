{
 "cells": [
  {
   "cell_type": "markdown",
   "id": "6531b0e7-5ffe-4a2d-bbef-ff3e5aa3ba25",
   "metadata": {},
   "source": [
    "# Dynamic Foucault Simulations\n",
    "\n",
    "**Scott Prahl**\n",
    "\n",
    "**April 2021**\n",
    "\n",
    "\n",
    "    pip install ipympl\n",
    "    # If using JupyterLab\n",
    "    pip install nodejs\n",
    "    jupyter labextension install @jupyter-widgets/jupyterlab-manager\n",
    "    jupyter labextension install jupyter-matplotlib"
   ]
  },
  {
   "cell_type": "code",
   "execution_count": 1,
   "id": "91681da1-3bac-461f-bf31-bec649848540",
   "metadata": {},
   "outputs": [
    {
     "name": "stdout",
     "output_type": "stream",
     "text": [
      "3.9.7\n"
     ]
    }
   ],
   "source": [
    "from platform import python_version\n",
    "\n",
    "print(python_version())"
   ]
  },
  {
   "cell_type": "code",
   "execution_count": 2,
   "id": "executed-feeling",
   "metadata": {},
   "outputs": [],
   "source": [
    "%matplotlib widget\n",
    "import ipywidgets\n",
    "import numpy as np\n",
    "import matplotlib.pyplot as plt\n",
    "import lenstest"
   ]
  },
  {
   "cell_type": "code",
   "execution_count": 4,
   "id": "perfect-stability",
   "metadata": {},
   "outputs": [
    {
     "data": {
      "application/vnd.jupyter.widget-view+json": {
       "model_id": "eaa48887fbac459186f84a6238ca3afd",
       "version_major": 2,
       "version_minor": 0
      },
      "text/plain": [
       "Canvas(toolbar=Toolbar(toolitems=[('Home', 'Reset original view', 'home', 'home'), ('Back', 'Back to previous …"
      ]
     },
     "metadata": {},
     "output_type": "display_data"
    },
    {
     "data": {
      "application/vnd.jupyter.widget-view+json": {
       "model_id": "af9828a7ae5648249267f7a2f200dd7f",
       "version_major": 2,
       "version_minor": 0
      },
      "text/plain": [
       "interactive(children=(FloatSlider(value=0.0, description='conic', max=1.0, min=-1.0, step=0.02), FloatSlider(v…"
      ]
     },
     "metadata": {},
     "output_type": "display_data"
    }
   ],
   "source": [
    "D = 20*25.4\n",
    "z_offset = 2\n",
    "x_offset = -0.03\n",
    "conic = 1\n",
    "phi = np.pi/2\n",
    "\n",
    "plt.subplots(1,2,figsize=(10,5))\n",
    "\n",
    "def update(conic=0, x_offset = 20, z_offset=2, RoC=D):\n",
    "    lenstest.foucault.foucault_plot(D, RoC, x_offset, z_offset, conic, phi=phi, init=False)\n",
    "\n",
    "ipywidgets.interact(update, RoC=(D,1000,100), conic = (-1,1,0.02), x_offset=(-0.2,0.2,0.02), z_offset=(-5,5,0.1));"
   ]
  },
  {
   "cell_type": "code",
   "execution_count": null,
   "id": "91d9fa17-4a9d-4120-b9a9-f15b7f12bb22",
   "metadata": {},
   "outputs": [],
   "source": []
  }
 ],
 "metadata": {
  "kernelspec": {
   "display_name": "Python 3",
   "language": "python",
   "name": "python3"
  },
  "language_info": {
   "codemirror_mode": {
    "name": "ipython",
    "version": 3
   },
   "file_extension": ".py",
   "mimetype": "text/x-python",
   "name": "python",
   "nbconvert_exporter": "python",
   "pygments_lexer": "ipython3",
   "version": "3.9.7"
  }
 },
 "nbformat": 4,
 "nbformat_minor": 5
}
