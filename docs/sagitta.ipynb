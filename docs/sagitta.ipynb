{
 "cells": [
  {
   "cell_type": "markdown",
   "id": "30b8c9a5",
   "metadata": {},
   "source": [
    "# Sagitta\n",
    "\n",
    "**Scott Prahl**\n",
    "\n",
    "**Jan 2023**"
   ]
  },
  {
   "cell_type": "code",
   "execution_count": 1,
   "id": "executed-feeling",
   "metadata": {},
   "outputs": [],
   "source": [
    "import numpy as np\n",
    "import matplotlib.pyplot as plt\n",
    "import lenstest\n",
    "\n",
    "%config InlineBackend.figure_format='retina'"
   ]
  },
  {
   "cell_type": "markdown",
   "id": "3695f066-0fed-4076-8154-17e8e7fadcf6",
   "metadata": {},
   "source": [
    "## Conic Sections\n",
    "\n",
    "Optical surfaces are typically spherical, however a number of other shapes occur.  For telescope mirrors, a parabolic shape is preferred.  In general, these shapes are commonly described by conic sections.  The conic curves can be described by a conic constant K\n",
    "\n",
    "<img src=\"https://upload.wikimedia.org/wikipedia/commons/thumb/7/7f/Conic_constant.svg/500px-Conic_constant.svg.png\" width=\"20%\">\n",
    "\n",
    "where the numbers in the plot indicate the values of the conic constant for different curves.\n",
    "\n",
    "The mirror surfaces are formed by rotating about and optical axis oriented perpendicular to the vertex.  So a paraboloid mirror might look like\n",
    "\n",
    "<img src=\"https://upload.wikimedia.org/wikipedia/commons/thumb/1/12/Paraboloid_of_Revolution.svg/559px-Paraboloid_of_Revolution.svg.png\" width=\"20%\">\n"
   ]
  },
  {
   "cell_type": "markdown",
   "id": "c91f13ca-5c3c-429f-b5b9-04979d1ea975",
   "metadata": {},
   "source": [
    "## Sagitta\n",
    "\n",
    "The height (or depth) of a convex or concave lens surface is referred to as the sagitta, or simply sag, of that surface. \n",
    "\n",
    "<img src=\"https://stellafane.org/tm/atm/grind/images/atm_sagitta.png\">\n",
    "\n",
    "The sagitta for a conic section is given by the radius $r$ of the chord distance $2r$, the radius of curvature of the section $R$, and the conic constant K:\n",
    "\n",
    "$$\n",
    "s = \\frac{r^2}{R+\\sqrt{R^2-(1+K) r^2}}\n",
    "$$"
   ]
  },
  {
   "cell_type": "markdown",
   "id": "bfe6b6b4-25ea-422a-9e63-54c8feaaad39",
   "metadata": {},
   "source": [
    "## Testing Sagitta Calculations\n",
    "\n",
    "To check the calculations of sagitta for different conic sections, this paper about contact lens calculations was handy.  This paper by Benjamin & Rosenblum was useful: \"Radii of Curvature and Sagittal Depths of Conic Sections\",\n",
    "*International Contact Lens Clinic*, Vol. 19, pp. 76-83, March/April 1992. Specifically, the data from table 1 allows direct comparison with the understanding that the conic constant $K$ is related to the eccentricity $\\varepsilon$ by\n",
    "$$\n",
    "K = -\\varepsilon^2\n",
    "$$\n",
    "To get a positive conic constant, the eccentricity must be imaginary. Moreover, to the positive conic constant results to match, I modified the eccentricity from `-0.45j` to `-0.504j`"
   ]
  },
  {
   "cell_type": "code",
   "execution_count": 4,
   "id": "0d2192fe-fc36-4d2a-9f61-74c0c2cd05b8",
   "metadata": {},
   "outputs": [
    {
     "name": "stdout",
     "output_type": "stream",
     "text": [
      "Benjamin & Rosenblum, \"Radii of Curvature and Sagittal Depths of Conic Sections,\n",
      "ICLC, Vol. 19, pp. 76-83, March/April 1992\n",
      "\n",
      "Radius of curvature is  7.8 mm\n",
      "Nominal diameter of contact lens is 12.0 mm\n",
      "\n",
      "Sagittal depths for conoid surfaces with fixed apical radius of curvature,\n",
      "for with different eccentricities. 2h is the chord length across\n",
      "the curved surface.\n",
      "\n",
      " 2h    e=-0.45   0.0   0.45    1.0     2.0\n",
      " 1.000  0.016  0.016  0.016  0.016   0.016\n",
      " 2.000  0.064  0.064  0.064  0.064   0.063\n",
      " 3.000  0.146  0.146  0.145  0.144   0.140\n",
      " 4.000  0.262  0.261  0.260  0.256   0.245\n",
      " 5.000  0.414  0.412  0.409  0.401   0.374\n",
      " 6.000  0.606  0.600  0.595  0.577   0.524\n",
      " 7.000  0.842  0.829  0.820  0.785   0.693\n",
      " 8.000  1.128  1.104  1.086  1.026   0.878\n",
      " 9.000  1.472  1.429  1.340  1.298   1.076\n",
      "10.000  1.890  1.813  1.761  1.603   1.285\n",
      "11.000  2.403  2.269  2.183  1.939   1.504\n",
      "12.000  3.061  2.816  2.673  2.308   1.731\n"
     ]
    }
   ],
   "source": [
    "RoC = 7.8 # mm\n",
    "eccentricity = np.array([0.504j,0,0.45,1,2])\n",
    "conic_constant = (-eccentricity**2).real\n",
    "\n",
    "# table from the magazine\n",
    "table_1 = np.array([\n",
    "[1.0,0.016,0.016,0.016,0.016,0.016],\n",
    "[2.0,0.064,0.064,0.064,0.064,0.063],\n",
    "[3.0,0.146,0.146,0.145,0.144,0.140],\n",
    "[4.0,0.262,0.261,0.260,0.256,0.245],\n",
    "[5.0,0.414,0.412,0.409,0.401,0.374],\n",
    "[6.0,0.606,0.600,0.595,0.577,0.524],\n",
    "[7.0,0.842,0.829,0.820,0.785,0.693],\n",
    "[8.0,1.128,1.104,1.086,1.026,0.878],\n",
    "[9.0,1.472,1.429,1.340,1.298,1.076],\n",
    "[10.0,1.890,1.813,1.761,1.603,1.285],\n",
    "[11.0,2.403,2.269,2.183,1.939,1.504],\n",
    "[12.0,3.061,2.816,2.673,2.308,1.731]])\n",
    "\n",
    "y = (table_1[:,0]/2).flatten()  # heights\n",
    "x = np.zeros_like(y)            # optical axis crosses conic at (0,0)RoC = 7.8\n",
    "\n",
    "print('Benjamin & Rosenblum, \"Radii of Curvature and Sagittal Depths of Conic Sections,')\n",
    "print('ICLC, Vol. 19, pp. 76-83, March/April 1992')\n",
    "print()\n",
    "print(\"Radius of curvature is %4.1f mm\" % RoC)\n",
    "print(\"Nominal diameter of contact lens is %4.1f mm\" % 12)\n",
    "print()\n",
    "print(\"Sagittal depths for conoid surfaces with fixed apical radius of curvature,\")\n",
    "print(\"for with different eccentricities. 2h is the chord length across\")\n",
    "print(\"the curved surface.\")\n",
    "print()\n",
    "print(\" 2h    e=-0.45   0.0   0.45    1.0     2.0\")\n",
    "for i in range(len(x)):\n",
    "    print(\"%6.3f %6.3f %6.3f %6.3f %6.3f  %6.3f\" % (2*y[i], table_1[i,1], table_1[i,2], table_1[i,3], table_1[i,4], table_1[i,5]))"
   ]
  },
  {
   "cell_type": "markdown",
   "id": "5b94d3b3",
   "metadata": {},
   "source": [
    "Here we verify that all these values can be calculated correctly.  "
   ]
  },
  {
   "cell_type": "code",
   "execution_count": 5,
   "id": "6eaa85b4-4bfd-4afc-a511-524bfd998724",
   "metadata": {},
   "outputs": [
    {
     "name": "stdout",
     "output_type": "stream",
     "text": [
      "\n",
      "Sagitta calculated using sagitta()\n",
      "\n",
      " 2h    e=-0.45   0.0   0.45    1.0     2.0\n",
      " 1.000  0.016  0.016  0.016  0.016   0.016\n",
      " 2.000  0.064  0.064  0.064  0.064   0.063\n",
      " 3.000  0.146  0.146  0.145  0.144   0.140\n",
      " 4.000  0.262  0.261  0.260  0.256   0.245\n",
      " 5.000  0.414  0.411  0.409  0.401   0.374\n",
      " 6.000  0.606  0.600  0.595  0.577   0.524\n",
      " 7.000  0.842  0.829  0.820  0.785   0.693\n",
      " 8.000  1.128  1.104  1.086  1.026   0.878\n",
      " 9.000  1.472  1.429  1.398  1.298   1.076\n",
      "10.000  1.890  1.813  1.761  1.603   1.285\n",
      "11.000  2.403  2.269  2.183  1.939   1.504\n",
      "12.000  3.061  2.816  2.673  2.308   1.731\n"
     ]
    }
   ],
   "source": [
    "# now calculate and print these values\n",
    "\n",
    "K = (-eccentricity**2).real\n",
    "sag = np.zeros((12,6))\n",
    "sag[:,0] = table_1[:,0]\n",
    "\n",
    "for i in range(len(K)):\n",
    "    sag[:,i+1] = lenstest.lenstest.sagitta(RoC, K[i], x, y)\n",
    "\n",
    "print()\n",
    "print(\"Sagitta calculated using sagitta()\")\n",
    "print()\n",
    "print(\" 2h    e=-0.45   0.0   0.45    1.0     2.0\")\n",
    "for i in range(len(x)):\n",
    "    print(\"%6.3f %6.3f %6.3f %6.3f %6.3f  %6.3f\" % (sag[i,0], sag[i,1], sag[i,2], sag[i,3], sag[i,4], sag[i,5]))"
   ]
  }
 ],
 "metadata": {
  "kernelspec": {
   "display_name": "Python 3 (ipykernel)",
   "language": "python",
   "name": "python3"
  },
  "language_info": {
   "codemirror_mode": {
    "name": "ipython",
    "version": 3
   },
   "file_extension": ".py",
   "mimetype": "text/x-python",
   "name": "python",
   "nbconvert_exporter": "python",
   "pygments_lexer": "ipython3",
   "version": "3.11.5"
  }
 },
 "nbformat": 4,
 "nbformat_minor": 5
}
